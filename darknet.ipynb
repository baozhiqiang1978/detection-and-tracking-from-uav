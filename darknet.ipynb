{
  "nbformat": 4,
  "nbformat_minor": 0,
  "metadata": {
    "colab": {
      "name": "DetectionDataset.ipynb",
      "version": "0.3.2",
      "provenance": [],
      "collapsed_sections": []
    },
    "kernelspec": {
      "name": "python3",
      "display_name": "Python 3"
    },
    "accelerator": "GPU"
  },
  "cells": [
    {
      "metadata": {
        "id": "IG9IhTl29LgI",
        "colab_type": "text"
      },
      "cell_type": "markdown",
      "source": [
        "## Requirements\n",
        "\n",
        "CUDNN from the [Nvidia website](https://developer.nvidia.com/cudnn)  \n",
        "The dataset in the connected Google Drive"
      ]
    },
    {
      "metadata": {
        "id": "B52EoJji7yYv",
        "colab_type": "text"
      },
      "cell_type": "markdown",
      "source": [
        "- Connection to the Google Drive containing the dataset\n",
        "- Clone the darknet repo"
      ]
    },
    {
      "metadata": {
        "id": "_h4hMo_ajxpE",
        "colab_type": "code",
        "colab": {}
      },
      "cell_type": "code",
      "source": [
        "ROOT = \"/content/drive/My Drive/Private/MA3 Project/\"\n",
        "\n",
        "import os\n",
        "from google.colab import drive\n",
        "\n",
        "drive.mount('/content/drive/')\n",
        "os.chdir( ROOT )\n",
        "\n",
        "!git clone https://github.com/josueBulle/darknet.git\n",
        "\n",
        "os.chdir( os.path.join( ROOT, \"darknet\") )"
      ],
      "execution_count": 0,
      "outputs": []
    },
    {
      "metadata": {
        "id": "V-lV4PHe8J62",
        "colab_type": "text"
      },
      "cell_type": "markdown",
      "source": [
        "Installation of CUDA and CUDNN so we can compile darknet with the GPU=1 option.  \n",
        "We require the file  cudnn-8.0-linux-x64-v7.tgz  which is downloadable from the [Nvidia website](https://developer.nvidia.com/cudnn) (requires a developper account)\n",
        "\n",
        "I used cuDNN v7.0.5 (Dec 5, 2017), for CUDA 8.0"
      ]
    },
    {
      "metadata": {
        "id": "bzqRk0nezisy",
        "colab_type": "code",
        "colab": {}
      },
      "cell_type": "code",
      "source": [
        "# can take up to 7 minutes\n",
        "\n",
        "!wget https://developer.nvidia.com/compute/cuda/8.0/Prod2/local_installers/cuda-repo-ubuntu1604-8-0-local-ga2_8.0.61-1_amd64-deb\n",
        "!dpkg -i cuda-repo-ubuntu1604-8-0-local-ga2_8.0.61-1_amd64-deb\n",
        "!apt-key add /var/cuda-repo-8-0-local-ga2/7fa2af80.pub\n",
        "!apt update\n",
        "!apt install cuda-8-0 -y\n",
        "os.environ['PATH'] += ':/usr/local/cuda/bin'\n",
        "!apt -o Dpkg::Options::=\"--force-overwrite\" --fix-broken install\n",
        "!apt install gcc-5 g++-5 -y\n",
        "!ln -s /usr/bin/gcc-5 /usr/local/cuda/bin/gcc\n",
        "!ln -s /usr/bin/g++-5 /usr/local/cuda/bin/g++\n",
        "os.chdir(\"/content/drive/My Drive/Private/MA3 Project/\")\n",
        "!tar -xzvf cudnn-8.0-linux-x64-v7.tgz\n",
        "!cp cuda/include/cudnn.h /usr/local/cuda/include\n",
        "!cp cuda/lib64/libcudnn* /usr/local/cuda/lib64\n",
        "!chmod a+r /usr/local/cuda/include/cudnn.h"
      ],
      "execution_count": 0,
      "outputs": []
    },
    {
      "metadata": {
        "id": "qPy5pZrSrrpy",
        "colab_type": "code",
        "colab": {}
      },
      "cell_type": "code",
      "source": [
        "os.chdir( os.path.join( ROOT, \"darknet\") )\n",
        "!make"
      ],
      "execution_count": 0,
      "outputs": []
    },
    {
      "metadata": {
        "id": "3zemigWJmsZJ",
        "colab_type": "text"
      },
      "cell_type": "markdown",
      "source": [
        "# Transformations needed on dataset\n",
        "YOLOv3 need one txt file per image (currently one per video). Each row must represent one groundtruth boundingbox with format:\n",
        "\n",
        "\n",
        "```\n",
        "<object-class> <center-x> <center-y> <width> <height>\n",
        "```\n",
        "The class in an integer between 0 and #classes - 1\n",
        "Other values are relative to the image size (i.e. between 0.0 and 1.0)\n",
        "\n",
        "```\n",
        "<class_number> (<absolute_x> / <image_width>) (<absolute_y> / <image_height>) (<absolute_width> / <image_width>) (<absolute_height> / <image_height>)\n",
        "```\n",
        "\n",
        "\n",
        "**It took me about 30 minutes to transform the whole dataset (~24270 images)**\n"
      ]
    },
    {
      "metadata": {
        "id": "rL0rTe-VnW1s",
        "colab_type": "code",
        "colab": {}
      },
      "cell_type": "code",
      "source": [
        "%cd \"/path/to/dataset\"\n",
        "\n",
        "from DataManagerBenchmark import DataManager\n",
        "from IPython.display import HTML, display\n",
        "\n",
        "def progress(value=0, max=100):\n",
        "    return HTML(\"\"\"\n",
        "        <progress\n",
        "            value='{value}'\n",
        "            max='{max}',\n",
        "            style='width: 100%'\n",
        "        >\n",
        "            {value}\n",
        "        </progress>\n",
        "    \"\"\".format(value=value, max=max))"
      ],
      "execution_count": 0,
      "outputs": []
    },
    {
      "metadata": {
        "id": "YW2lj1mhB4Xs",
        "colab_type": "code",
        "colab": {}
      },
      "cell_type": "code",
      "source": [
        "out = display(progress(), display_id=True)\n",
        "\n",
        "def callback(a, b):\n",
        "    out.update(progress(a, b))\n",
        "\n",
        "dataManager = DataManager(\"UAV-benchmark/images\", \"UAV-benchmark/gt\")\n",
        "dataManager.export_dataset(\"UAV-benchmark/yolo\", False, 0, 1e5, callback)\n",
        "\n",
        "#18h57"
      ],
      "execution_count": 0,
      "outputs": []
    },
    {
      "metadata": {
        "id": "syaKuXd9QcU5",
        "colab_type": "text"
      },
      "cell_type": "markdown",
      "source": [
        "# Prepare training"
      ]
    },
    {
      "metadata": {
        "id": "OulzKLyPjRRm",
        "colab_type": "text"
      },
      "cell_type": "markdown",
      "source": [
        "Compute best anchors for our custom dataset"
      ]
    },
    {
      "metadata": {
        "id": "Xf-_cFBVFMWG",
        "colab_type": "code",
        "colab": {}
      },
      "cell_type": "code",
      "source": [
        "! ./darknet detector anchors cfg/aerial-tiny.data -num_of_clusters 9 -width 416 -height 416"
      ],
      "execution_count": 0,
      "outputs": []
    },
    {
      "metadata": {
        "id": "9oivDkE5SOJ1",
        "colab_type": "text"
      },
      "cell_type": "markdown",
      "source": [
        "# Finally : Training"
      ]
    },
    {
      "metadata": {
        "id": "8SJx_3IMSRVv",
        "colab_type": "code",
        "colab": {}
      },
      "cell_type": "code",
      "source": [
        "! ./darknet detector train cfg/aerial.data cfg/yolov3-aerial.cfg ../backup/yolov3-aerial.backup"
      ],
      "execution_count": 0,
      "outputs": []
    },
    {
      "metadata": {
        "id": "hlGFRV0uSR9i",
        "colab_type": "text"
      },
      "cell_type": "markdown",
      "source": [
        "# Testing detection"
      ]
    },
    {
      "metadata": {
        "id": "7ipex2ZOFMav",
        "colab_type": "code",
        "colab": {}
      },
      "cell_type": "code",
      "source": [
        "! ./darknet detector test cfg/aerial.data cfg/yolov3-aerial.cfg ../backup/yolov3-aerial_500.weights\n",
        "# data/test1.jpg"
      ],
      "execution_count": 0,
      "outputs": []
    },
    {
      "metadata": {
        "id": "_vwIVwLdaYlU",
        "colab_type": "code",
        "colab": {}
      },
      "cell_type": "code",
      "source": [
        "import os\n",
        "import matplotlib\n",
        "import matplotlib.pyplot as plt\n",
        "import matplotlib.image as mpimg\n",
        "test_image = mpimg.imread(os.path.join(\"predictions.jpg\"))\n",
        "plt.imshow(test_image)\n",
        "plt.show()"
      ],
      "execution_count": 0,
      "outputs": []
    },
    {
      "metadata": {
        "id": "PoNH8DPgDgx9",
        "colab_type": "code",
        "colab": {}
      },
      "cell_type": "code",
      "source": [
        ""
      ],
      "execution_count": 0,
      "outputs": []
    },
    {
      "metadata": {
        "id": "X4uc1-3XsbEk",
        "colab_type": "code",
        "colab": {}
      },
      "cell_type": "code",
      "source": [
        ""
      ],
      "execution_count": 0,
      "outputs": []
    },
    {
      "metadata": {
        "id": "LuEasjQ6DwHr",
        "colab_type": "text"
      },
      "cell_type": "markdown",
      "source": [
        "Detection on a video"
      ]
    },
    {
      "metadata": {
        "id": "Ew2YDKw2Df7j",
        "colab_type": "code",
        "colab": {}
      },
      "cell_type": "code",
      "source": [
        "from python.helpers import *\n",
        "import python.darknet as dn\n",
        "import os, cv2\n",
        "\n",
        "## Export a directory of images to a single output video\n",
        "\n",
        "input_dir = \"../benchmark-dataset/M0603/\"\n",
        "output_dir = \"../output/\"\n",
        "\n",
        "output_name = \"benchmark-m0603\"\n",
        "\n",
        "cfg = \"cfg/jekhor/yolov3-aerial.cfg\"\n",
        "weights = \"../yolov3-aerial.weights\"\n",
        "data = \"cfg/jekhor/aerial.data\"\n",
        "\n",
        "##\n",
        "\n",
        "print(os.listdir( input_dir ))\n",
        "\n",
        "output_path = os.path.join(output_dir, output_name + \".mp4\")\n",
        "\n",
        "if not os.path.isdir(output_dir + output_name):\n",
        "  os.makedirs(output_dir + output_name)\n",
        "\n",
        "images = [ d for d in os.listdir( input_dir ) if d.endswith('.jpg') ].sort()\n",
        "out_images = []\n",
        "\n",
        "net = dn.load_net( cfg.encode(), weights.encode(), 0)\n",
        "meta = dn.load_meta( data.encode() )\n",
        "\n",
        "count = 0\n",
        "total = len(images)\n",
        "for i in images:\n",
        "    count += 1\n",
        "    print(str(count/total) + \"%\", end=\"\\r\")\n",
        "    \n",
        "    im = input_dir + i\n",
        "    r = dn.detect(net, meta, im.encode())\n",
        "    \n",
        "    im_out = draw_yolo_result(im, r)\n",
        "    \n",
        "    out_images.append( os.path.join(output_dir, output_name, i) )\n",
        "    \n",
        "    cv2.imwrite( out_images[-1], im_out )\n",
        "\n",
        "directory_to_video( out_images, output_dir )\n",
        "\n"
      ],
      "execution_count": 0,
      "outputs": []
    }
  ]
}